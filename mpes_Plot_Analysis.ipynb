{
 "cells": [
  {
   "cell_type": "code",
   "execution_count": null,
   "id": "ca4ac8e7",
   "metadata": {},
   "outputs": [
    {
     "ename": "",
     "evalue": "",
     "output_type": "error",
     "traceback": [
      "\u001b[1;31mRunning cells with 'base (Python 3.11.9)' requires the ipykernel package.\n",
      "\u001b[1;31m<a href='command:jupyter.createPythonEnvAndSelectController'>Create a Python Environment</a> with the required packages.\n",
      "\u001b[1;31mOr install 'ipykernel' using the command: 'conda install -n base ipykernel --update-deps --force-reinstall'"
     ]
    }
   ],
   "source": [
    "import numpy as np\n",
    "import matplotlib as mpl\n",
    "import matplotlib.pyplot as plt\n",
    "import matplotlib.colors as col\n",
    "from matplotlib.colors import PowerNorm\n",
    "from matplotlib.patches import Rectangle\n",
    "from matplotlib.ticker import FormatStrFormatter\n",
    "from skimage.draw import disk\n",
    "from scipy.optimize import curve_fit\n",
    "from scipy import signal\n",
    "from scipy.fft import fft, fftshift\n",
    "#from lmfit import Parameters, minimize, report_fit\n",
    "from obspy.imaging.cm import viridis_white\n",
    "import cmocean\n",
    "import xarray as xr\n",
    "from math import nan\n",
    "\n",
    "from Loader import DataLoader\n",
    "from main import main\n",
    "from Manager import DataHandler, FigureHandler, PlotHandler, ValueHandler, SliderManager, EventHandler, CheckButtonManager, ClickButtonManager\n",
    "import mpes\n",
    "from mpes import cmap_LTL, cmap_LTL2"
   ]
  }
 ],
 "metadata": {
  "kernelspec": {
   "display_name": "base",
   "language": "python",
   "name": "python3"
  },
  "language_info": {
   "name": "python",
   "version": "3.11.9"
  }
 },
 "nbformat": 4,
 "nbformat_minor": 5
}
