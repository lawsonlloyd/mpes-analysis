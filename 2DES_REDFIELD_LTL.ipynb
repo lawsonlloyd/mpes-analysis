{
 "cells": [
  {
   "cell_type": "markdown",
   "id": "cf0d9ef6",
   "metadata": {},
   "source": [
    "# Data Processing Pipeline for 2DES\n",
    "\n",
    "### Developed for the Point-by-Point 'Boxcars' Geometry experiments in the Engel Group @UChicago\n",
    "\n",
    "#### Notebook by Lawson T. Lloyd\n"
   ]
  },
  {
   "cell_type": "markdown",
   "id": "9023802b",
   "metadata": {},
   "source": []
  },
  {
   "cell_type": "code",
   "execution_count": null,
   "id": "5bbb0769",
   "metadata": {},
   "outputs": [],
   "source": []
  }
 ],
 "metadata": {
  "kernelspec": {
   "display_name": "specs_kernel",
   "language": "python",
   "name": "specs_kernel"
  },
  "language_info": {
   "codemirror_mode": {
    "name": "ipython",
    "version": 3
   },
   "file_extension": ".py",
   "mimetype": "text/x-python",
   "name": "python",
   "nbconvert_exporter": "python",
   "pygments_lexer": "ipython3",
   "version": "3.7.3"
  }
 },
 "nbformat": 4,
 "nbformat_minor": 5
}
